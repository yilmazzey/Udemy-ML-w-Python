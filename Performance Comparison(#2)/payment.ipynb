{
 "cells": [
  {
   "cell_type": "code",
   "execution_count": 74,
   "metadata": {},
   "outputs": [],
   "source": [
    "import numpy as np\n",
    "import pandas as pd\n",
    "import matplotlib.pyplot as plt\n",
    "from sklearn.metrics import r2_score"
   ]
  },
  {
   "cell_type": "code",
   "execution_count": 75,
   "metadata": {},
   "outputs": [
    {
     "data": {
      "text/html": [
       "<div>\n",
       "<style scoped>\n",
       "    .dataframe tbody tr th:only-of-type {\n",
       "        vertical-align: middle;\n",
       "    }\n",
       "\n",
       "    .dataframe tbody tr th {\n",
       "        vertical-align: top;\n",
       "    }\n",
       "\n",
       "    .dataframe thead th {\n",
       "        text-align: right;\n",
       "    }\n",
       "</style>\n",
       "<table border=\"1\" class=\"dataframe\">\n",
       "  <thead>\n",
       "    <tr style=\"text-align: right;\">\n",
       "      <th></th>\n",
       "      <th>Calisan ID</th>\n",
       "      <th>unvan</th>\n",
       "      <th>UnvanSeviyesi</th>\n",
       "      <th>Kidem</th>\n",
       "      <th>Puan</th>\n",
       "      <th>maas</th>\n",
       "    </tr>\n",
       "  </thead>\n",
       "  <tbody>\n",
       "    <tr>\n",
       "      <th>0</th>\n",
       "      <td>1</td>\n",
       "      <td>Cayci</td>\n",
       "      <td>1</td>\n",
       "      <td>5</td>\n",
       "      <td>70</td>\n",
       "      <td>2250</td>\n",
       "    </tr>\n",
       "    <tr>\n",
       "      <th>1</th>\n",
       "      <td>2</td>\n",
       "      <td>Sekreter</td>\n",
       "      <td>2</td>\n",
       "      <td>5</td>\n",
       "      <td>70</td>\n",
       "      <td>2500</td>\n",
       "    </tr>\n",
       "    <tr>\n",
       "      <th>2</th>\n",
       "      <td>3</td>\n",
       "      <td>Uzman Yardimcisi</td>\n",
       "      <td>3</td>\n",
       "      <td>5</td>\n",
       "      <td>70</td>\n",
       "      <td>3000</td>\n",
       "    </tr>\n",
       "    <tr>\n",
       "      <th>3</th>\n",
       "      <td>4</td>\n",
       "      <td>Uzman</td>\n",
       "      <td>4</td>\n",
       "      <td>5</td>\n",
       "      <td>70</td>\n",
       "      <td>4000</td>\n",
       "    </tr>\n",
       "    <tr>\n",
       "      <th>4</th>\n",
       "      <td>5</td>\n",
       "      <td>Proje Yoneticisi</td>\n",
       "      <td>5</td>\n",
       "      <td>5</td>\n",
       "      <td>70</td>\n",
       "      <td>5500</td>\n",
       "    </tr>\n",
       "  </tbody>\n",
       "</table>\n",
       "</div>"
      ],
      "text/plain": [
       "   Calisan ID             unvan  UnvanSeviyesi  Kidem  Puan  maas\n",
       "0           1             Cayci              1      5    70  2250\n",
       "1           2          Sekreter              2      5    70  2500\n",
       "2           3  Uzman Yardimcisi              3      5    70  3000\n",
       "3           4             Uzman              4      5    70  4000\n",
       "4           5  Proje Yoneticisi              5      5    70  5500"
      ]
     },
     "execution_count": 75,
     "metadata": {},
     "output_type": "execute_result"
    }
   ],
   "source": [
    "data= pd.read_csv(\"maaslar_yeni.csv\")\n",
    "data.head()"
   ]
  },
  {
   "cell_type": "markdown",
   "metadata": {},
   "source": [
    "Preprocessing"
   ]
  },
  {
   "cell_type": "code",
   "execution_count": 76,
   "metadata": {},
   "outputs": [],
   "source": [
    "data.drop(columns=[\"Calisan ID\"], inplace=True)\n",
    "\n",
    "#applying one-hot encoding for the categorical variable \"unvan\"\n",
    "#data=pd.get_dummies(data,columns=[\"unvan\"])\n",
    "#data.head()\n",
    "\n",
    "X=data.drop(columns=[\"maas\",\"unvan\"])#selecting independent variables as x\n",
    "y=data[\"maas\"]\n"
   ]
  },
  {
   "cell_type": "code",
   "execution_count": 77,
   "metadata": {},
   "outputs": [
    {
     "name": "stdout",
     "output_type": "stream",
     "text": [
      "                                 OLS Regression Results                                \n",
      "=======================================================================================\n",
      "Dep. Variable:                      y   R-squared (uncentered):                   0.903\n",
      "Model:                            OLS   Adj. R-squared (uncentered):              0.892\n",
      "Method:                 Least Squares   F-statistic:                              83.89\n",
      "Date:                Sat, 09 Mar 2024   Prob (F-statistic):                    8.38e-14\n",
      "Time:                        22:15:11   Log-Likelihood:                         -295.74\n",
      "No. Observations:                  30   AIC:                                      597.5\n",
      "Df Residuals:                      27   BIC:                                      601.7\n",
      "Df Model:                           3                                                  \n",
      "Covariance Type:            nonrobust                                                  \n",
      "=================================================================================\n",
      "                    coef    std err          t      P>|t|      [0.025      0.975]\n",
      "---------------------------------------------------------------------------------\n",
      "UnvanSeviyesi  2494.8107    256.145      9.740      0.000    1969.244    3020.377\n",
      "Kidem             1.3531    318.990      0.004      0.997    -653.161     655.867\n",
      "Puan            -26.5687     33.657     -0.789      0.437     -95.626      42.489\n",
      "==============================================================================\n",
      "Omnibus:                        0.440   Durbin-Watson:                   1.617\n",
      "Prob(Omnibus):                  0.803   Jarque-Bera (JB):                0.573\n",
      "Skew:                           0.109   Prob(JB):                        0.751\n",
      "Kurtosis:                       2.359   Cond. No.                         23.7\n",
      "==============================================================================\n",
      "\n",
      "Notes:\n",
      "[1] R² is computed without centering (uncentered) since the model does not contain a constant.\n",
      "[2] Standard Errors assume that the covariance matrix of the errors is correctly specified.\n",
      "Linear R2 degeri\n",
      "0.5857207050854021\n"
     ]
    }
   ],
   "source": [
    "#feature selection depending on the p-value\n",
    "import statsmodels.api as sm\n",
    "from sklearn.linear_model import LinearRegression\n",
    "model=LinearRegression()\n",
    "model.fit(X,y)\n",
    "\n",
    "ols=sm.OLS(model.predict(X),X)\n",
    "print(ols.fit().summary())\n",
    "print('Linear R2 degeri')\n",
    "print(r2_score(y, model.predict(X)))"
   ]
  },
  {
   "cell_type": "markdown",
   "metadata": {},
   "source": [
    "Polynomial Regression"
   ]
  },
  {
   "cell_type": "code",
   "execution_count": 78,
   "metadata": {},
   "outputs": [
    {
     "name": "stdout",
     "output_type": "stream",
     "text": [
      "poly OLS\n",
      "                                 OLS Regression Results                                \n",
      "=======================================================================================\n",
      "Dep. Variable:                      y   R-squared (uncentered):                   0.729\n",
      "Model:                            OLS   Adj. R-squared (uncentered):              0.698\n",
      "Method:                 Least Squares   F-statistic:                              24.16\n",
      "Date:                Sat, 09 Mar 2024   Prob (F-statistic):                    8.31e-08\n",
      "Time:                        22:15:11   Log-Likelihood:                         -314.41\n",
      "No. Observations:                  30   AIC:                                      634.8\n",
      "Df Residuals:                      27   BIC:                                      639.0\n",
      "Df Model:                           3                                                  \n",
      "Covariance Type:            nonrobust                                                  \n",
      "=================================================================================\n",
      "                    coef    std err          t      P>|t|      [0.025      0.975]\n",
      "---------------------------------------------------------------------------------\n",
      "UnvanSeviyesi  2494.8107    477.284      5.227      0.000    1515.505    3474.116\n",
      "Kidem             1.3531    594.385      0.002      0.998   -1218.224    1220.931\n",
      "Puan            -26.5687     62.713     -0.424      0.675    -155.246     102.109\n",
      "==============================================================================\n",
      "Omnibus:                       18.672   Durbin-Watson:                   1.207\n",
      "Prob(Omnibus):                  0.000   Jarque-Bera (JB):               24.400\n",
      "Skew:                           1.567   Prob(JB):                     5.03e-06\n",
      "Kurtosis:                       6.114   Cond. No.                         23.7\n",
      "==============================================================================\n",
      "\n",
      "Notes:\n",
      "[1] R² is computed without centering (uncentered) since the model does not contain a constant.\n",
      "[2] Standard Errors assume that the covariance matrix of the errors is correctly specified.\n",
      "Polynomial R2 degeri\n",
      "0.8871429857650682\n"
     ]
    }
   ],
   "source": [
    "from sklearn.preprocessing import PolynomialFeatures\n",
    "poly_features=PolynomialFeatures(degree=2)\n",
    "X_poly=poly_features.fit_transform(X)\n",
    "model.fit(X_poly,y)\n",
    "print('poly OLS')\n",
    "model2=sm.OLS(model.predict(X_poly),X)\n",
    "print(model2.fit().summary())\n",
    "\n",
    "print('Polynomial R2 degeri')\n",
    "print(r2_score(y, model.predict(X_poly)))\n"
   ]
  },
  {
   "cell_type": "markdown",
   "metadata": {},
   "source": [
    "Feature Scaling"
   ]
  },
  {
   "cell_type": "code",
   "execution_count": 81,
   "metadata": {},
   "outputs": [],
   "source": [
    "from sklearn.preprocessing import StandardScaler\n",
    "#scaling for hyperparameter sensitivity\n",
    "sc1=StandardScaler()\n",
    "x_scaled= sc1.fit_transform(X)\n",
    "sc2=StandardScaler()\n",
    "y_scaled = np.ravel(sc2.fit_transform(y.values.reshape(-1,1)))"
   ]
  },
  {
   "cell_type": "markdown",
   "metadata": {},
   "source": [
    "Support Vector Regression"
   ]
  },
  {
   "cell_type": "code",
   "execution_count": 82,
   "metadata": {},
   "outputs": [
    {
     "name": "stdout",
     "output_type": "stream",
     "text": [
      "                                 OLS Regression Results                                \n",
      "=======================================================================================\n",
      "Dep. Variable:                      y   R-squared (uncentered):                   0.782\n",
      "Model:                            OLS   Adj. R-squared (uncentered):              0.758\n",
      "Method:                 Least Squares   F-statistic:                              32.37\n",
      "Date:                Sat, 09 Mar 2024   Prob (F-statistic):                    4.34e-09\n",
      "Time:                        22:17:30   Log-Likelihood:                        -0.92453\n",
      "No. Observations:                  30   AIC:                                      7.849\n",
      "Df Residuals:                      27   BIC:                                      12.05\n",
      "Df Model:                           3                                                  \n",
      "Covariance Type:            nonrobust                                                  \n",
      "==============================================================================\n",
      "                 coef    std err          t      P>|t|      [0.025      0.975]\n",
      "------------------------------------------------------------------------------\n",
      "x1             0.4715      0.049      9.709      0.000       0.372       0.571\n",
      "x2             0.0674      0.051      1.314      0.200      -0.038       0.173\n",
      "x3             0.0427      0.051      0.839      0.409      -0.062       0.147\n",
      "==============================================================================\n",
      "Omnibus:                        3.662   Durbin-Watson:                   0.494\n",
      "Prob(Omnibus):                  0.160   Jarque-Bera (JB):                2.279\n",
      "Skew:                           0.464   Prob(JB):                        0.320\n",
      "Kurtosis:                       2.019   Cond. No.                         1.44\n",
      "==============================================================================\n",
      "\n",
      "Notes:\n",
      "[1] R² is computed without centering (uncentered) since the model does not contain a constant.\n",
      "[2] Standard Errors assume that the covariance matrix of the errors is correctly specified.\n",
      "R2 score for svr\n",
      "0.6287203839391853\n"
     ]
    }
   ],
   "source": [
    "from sklearn.svm import SVR\n",
    "\n",
    "svr_reg = SVR(kernel='rbf')\n",
    "svr_reg.fit(x_scaled,y_scaled)\n",
    "\n",
    "\n",
    "model3=sm.OLS(svr_reg.predict(x_scaled),x_scaled)\n",
    "print(model3.fit().summary())\n",
    "\n",
    "\n",
    "print('R2 score for svr')\n",
    "print(r2_score(y_scaled, svr_reg.predict(x_scaled)))"
   ]
  },
  {
   "cell_type": "markdown",
   "metadata": {},
   "source": [
    "Desicion Tree"
   ]
  },
  {
   "cell_type": "code",
   "execution_count": 83,
   "metadata": {},
   "outputs": [
    {
     "name": "stdout",
     "output_type": "stream",
     "text": [
      "Decision Tree OLS\n",
      "                                 OLS Regression Results                                \n",
      "=======================================================================================\n",
      "Dep. Variable:                      y   R-squared (uncentered):                   0.679\n",
      "Model:                            OLS   Adj. R-squared (uncentered):              0.644\n",
      "Method:                 Least Squares   F-statistic:                              19.08\n",
      "Date:                Sat, 09 Mar 2024   Prob (F-statistic):                    7.62e-07\n",
      "Time:                        22:17:35   Log-Likelihood:                         -317.95\n",
      "No. Observations:                  30   AIC:                                      641.9\n",
      "Df Residuals:                      27   BIC:                                      646.1\n",
      "Df Model:                           3                                                  \n",
      "Covariance Type:            nonrobust                                                  \n",
      "=================================================================================\n",
      "                    coef    std err          t      P>|t|      [0.025      0.975]\n",
      "---------------------------------------------------------------------------------\n",
      "UnvanSeviyesi  2494.8107    537.146      4.645      0.000    1392.677    3596.944\n",
      "Kidem             1.3531    668.935      0.002      0.998   -1371.187    1373.894\n",
      "Puan            -26.5687     70.579     -0.376      0.710    -171.385     118.248\n",
      "==============================================================================\n",
      "Omnibus:                       40.370   Durbin-Watson:                   1.194\n",
      "Prob(Omnibus):                  0.000   Jarque-Bera (JB):              125.722\n",
      "Skew:                           2.897   Prob(JB):                     5.01e-28\n",
      "Kurtosis:                      11.186   Cond. No.                         23.7\n",
      "==============================================================================\n",
      "\n",
      "Notes:\n",
      "[1] R² is computed without centering (uncentered) since the model does not contain a constant.\n",
      "[2] Standard Errors assume that the covariance matrix of the errors is correctly specified.\n",
      "Decision Tree R2 degeri\n",
      "1.0\n"
     ]
    }
   ],
   "source": [
    "#Decision Tree Regresyon\n",
    "from sklearn.tree import DecisionTreeRegressor\n",
    "r_dt = DecisionTreeRegressor(random_state=0)\n",
    "r_dt.fit(X,y)\n",
    "\n",
    "\n",
    "print('Decision Tree OLS')\n",
    "model4=sm.OLS(r_dt.predict(X),X)\n",
    "print(model4.fit().summary())\n",
    "\n",
    "print('Decision Tree R2 degeri')\n",
    "print(r2_score(y, r_dt.predict(X)))\n"
   ]
  },
  {
   "cell_type": "markdown",
   "metadata": {},
   "source": [
    "Random Forest"
   ]
  },
  {
   "cell_type": "code",
   "execution_count": 84,
   "metadata": {},
   "outputs": [
    {
     "name": "stdout",
     "output_type": "stream",
     "text": [
      "Random Forest OLS\n",
      "                                 OLS Regression Results                                \n",
      "=======================================================================================\n",
      "Dep. Variable:                      y   R-squared (uncentered):                   0.713\n",
      "Model:                            OLS   Adj. R-squared (uncentered):              0.681\n",
      "Method:                 Least Squares   F-statistic:                              22.31\n",
      "Date:                Sat, 09 Mar 2024   Prob (F-statistic):                    1.79e-07\n",
      "Time:                        22:17:40   Log-Likelihood:                         -316.07\n",
      "No. Observations:                  30   AIC:                                      638.1\n",
      "Df Residuals:                      27   BIC:                                      642.3\n",
      "Df Model:                           3                                                  \n",
      "Covariance Type:            nonrobust                                                  \n",
      "=================================================================================\n",
      "                    coef    std err          t      P>|t|      [0.025      0.975]\n",
      "---------------------------------------------------------------------------------\n",
      "UnvanSeviyesi  2671.9265    504.444      5.297      0.000    1636.892    3706.961\n",
      "Kidem             1.0522    628.209      0.002      0.999   -1287.927    1290.031\n",
      "Puan            -44.2927     66.282     -0.668      0.510    -180.293      91.707\n",
      "==============================================================================\n",
      "Omnibus:                       32.588   Durbin-Watson:                   1.349\n",
      "Prob(Omnibus):                  0.000   Jarque-Bera (JB):               73.156\n",
      "Skew:                           2.425   Prob(JB):                     1.30e-16\n",
      "Kurtosis:                       8.916   Cond. No.                         23.7\n",
      "==============================================================================\n",
      "\n",
      "Notes:\n",
      "[1] R² is computed without centering (uncentered) since the model does not contain a constant.\n",
      "[2] Standard Errors assume that the covariance matrix of the errors is correctly specified.\n",
      "Random Forest R2 degeri\n",
      "0.9475498704400864\n"
     ]
    }
   ],
   "source": [
    "from sklearn.ensemble import RandomForestRegressor\n",
    "rf_reg=RandomForestRegressor(n_estimators = 10,random_state=0)\n",
    "rf_reg.fit(X,y.ravel())\n",
    "\n",
    "\n",
    "\n",
    "print('Random Forest OLS')\n",
    "model5=sm.OLS(rf_reg.predict(X),X)\n",
    "print(model5.fit().summary())\n",
    "\n",
    "\n",
    "\n",
    "print('Random Forest R2 degeri')\n",
    "print(r2_score(y, rf_reg.predict(X)))"
   ]
  }
 ],
 "metadata": {
  "kernelspec": {
   "display_name": "Python 3",
   "language": "python",
   "name": "python3"
  },
  "language_info": {
   "codemirror_mode": {
    "name": "ipython",
    "version": 3
   },
   "file_extension": ".py",
   "mimetype": "text/x-python",
   "name": "python",
   "nbconvert_exporter": "python",
   "pygments_lexer": "ipython3",
   "version": "3.11.1"
  }
 },
 "nbformat": 4,
 "nbformat_minor": 2
}
